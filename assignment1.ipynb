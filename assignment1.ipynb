{
 "cells": [
  {
   "cell_type": "markdown",
   "id": "93c954d5-c46f-4e31-9de8-753bbb660f9a",
   "metadata": {},
   "source": [
    "Q1"
   ]
  },
  {
   "cell_type": "code",
   "execution_count": 2,
   "id": "b80c3799-def5-4a76-90ba-0850b7c9791c",
   "metadata": {},
   "outputs": [],
   "source": [
    "# (i) String\n",
    "my_string = \"Hello, World!\"\n",
    "\n",
    "# (ii) List\n",
    "my_list = [1, 2, 3, 4, 5]\n",
    "\n",
    "# (iii) Float\n",
    "my_float = 3.14\n",
    "\n",
    "# (iv) Tuple\n",
    "my_tuple = (10, 20, 30)"
   ]
  },
  {
   "cell_type": "markdown",
   "id": "a28c9232-e5f7-4c5a-ba49-d01b3d97a2bd",
   "metadata": {},
   "source": [
    "Q2"
   ]
  },
  {
   "cell_type": "markdown",
   "id": "c8895710-5b8b-487f-83c8-dc291f68d906",
   "metadata": {},
   "source": [
    "Data types:\n",
    "(i) var1 is a string.\n",
    "(ii) var2 is also a string.\n",
    "(iii) var3 is a list.\n",
    "(iv) var4 is a float."
   ]
  },
  {
   "cell_type": "markdown",
   "id": "9f7225c7-87ed-4b5c-8ca4-169e7698470b",
   "metadata": {},
   "source": [
    "Q3"
   ]
  },
  {
   "cell_type": "markdown",
   "id": "13072936-2f3d-4df2-a9d8-5d7725fd8843",
   "metadata": {},
   "source": [
    "(i) / - Division: It is used to perform regular division of two numbers."
   ]
  },
  {
   "cell_type": "code",
   "execution_count": 3,
   "id": "f3d1b2a6-2d56-4555-aeb4-2e2f6cdd8364",
   "metadata": {},
   "outputs": [
    {
     "name": "stdout",
     "output_type": "stream",
     "text": [
      "3.3333333333333335\n"
     ]
    }
   ],
   "source": [
    "result = 10 / 3\n",
    "print(result)  # Output: 3.3333333333333335\n"
   ]
  },
  {
   "cell_type": "markdown",
   "id": "728b37cb-07bb-4583-9abc-771ff7e23b99",
   "metadata": {},
   "source": [
    "(ii) % - Modulus: It returns the remainder when one number is divided by another."
   ]
  },
  {
   "cell_type": "code",
   "execution_count": 4,
   "id": "0658644d-c1d3-4a22-9f2c-69184370b896",
   "metadata": {},
   "outputs": [
    {
     "name": "stdout",
     "output_type": "stream",
     "text": [
      "1\n"
     ]
    }
   ],
   "source": [
    "remainder = 10 % 3\n",
    "print(remainder)  # Output: 1\n"
   ]
  },
  {
   "cell_type": "markdown",
   "id": "eb85d36c-26cd-4c51-9990-231ca277b415",
   "metadata": {},
   "source": [
    "(iii) // - Floor Division: It performs division and rounds down to the nearest integer."
   ]
  },
  {
   "cell_type": "code",
   "execution_count": 5,
   "id": "a6d71be9-b4af-4691-afd8-4e5e704d85b2",
   "metadata": {},
   "outputs": [
    {
     "name": "stdout",
     "output_type": "stream",
     "text": [
      "3\n"
     ]
    }
   ],
   "source": [
    "rounded_result = 10 // 3\n",
    "print(rounded_result)  # Output: 3\n"
   ]
  },
  {
   "cell_type": "markdown",
   "id": "9d681729-99d9-4900-a3db-e7759e416b4a",
   "metadata": {},
   "source": [
    "(iv) ** - Exponentiation: It raises a number to the power of another number."
   ]
  },
  {
   "cell_type": "code",
   "execution_count": 6,
   "id": "c9232dae-b424-4642-b812-bd079d2cd029",
   "metadata": {},
   "outputs": [
    {
     "name": "stdout",
     "output_type": "stream",
     "text": [
      "8\n"
     ]
    }
   ],
   "source": [
    "result = 2 ** 3\n",
    "print(result)  # Output: 8\n"
   ]
  },
  {
   "cell_type": "markdown",
   "id": "d960e272-834e-432a-bac2-1a319df6de06",
   "metadata": {},
   "source": [
    "Q4"
   ]
  },
  {
   "cell_type": "code",
   "execution_count": 7,
   "id": "34da2b7c-4265-4c1c-8071-31b5e60aa820",
   "metadata": {},
   "outputs": [
    {
     "name": "stdout",
     "output_type": "stream",
     "text": [
      "Element: 1, Data Type: <class 'int'>\n",
      "Element: Hello, Data Type: <class 'str'>\n",
      "Element: 3.14, Data Type: <class 'float'>\n",
      "Element: True, Data Type: <class 'bool'>\n",
      "Element: [1, 2, 3], Data Type: <class 'list'>\n",
      "Element: (4, 5), Data Type: <class 'tuple'>\n",
      "Element: {'name': 'John'}, Data Type: <class 'dict'>\n",
      "Element: None, Data Type: <class 'NoneType'>\n",
      "Element: World, Data Type: <class 'str'>\n",
      "Element: 42, Data Type: <class 'int'>\n"
     ]
    }
   ],
   "source": [
    "my_list = [1, 'Hello', 3.14, True, [1, 2, 3], (4, 5), {'name': 'John'}, None, 'World', 42]\n",
    "\n",
    "for item in my_list:\n",
    "    print(f\"Element: {item}, Data Type: {type(item)}\")\n"
   ]
  },
  {
   "cell_type": "markdown",
   "id": "fd158c2a-968a-4c1f-917e-273023ed7aa1",
   "metadata": {},
   "source": [
    "Q5"
   ]
  },
  {
   "cell_type": "code",
   "execution_count": 8,
   "id": "fbfccb15-f268-4bcc-b5f7-923051b58fc2",
   "metadata": {},
   "outputs": [
    {
     "name": "stdout",
     "output_type": "stream",
     "text": [
      "A is divisible by B 2 times.\n"
     ]
    }
   ],
   "source": [
    "A = 36\n",
    "B = 3\n",
    "count = 0\n",
    "\n",
    "while A % B == 0:\n",
    "    A = A // B\n",
    "    count += 1\n",
    "\n",
    "print(f\"A is divisible by B {count} times.\")\n"
   ]
  },
  {
   "cell_type": "markdown",
   "id": "3618d605-b52f-47ae-9f94-e9af458bc2ba",
   "metadata": {},
   "source": [
    "Q6"
   ]
  },
  {
   "cell_type": "code",
   "execution_count": 9,
   "id": "2ddf6c33-1b08-4040-8834-cdba8de6defe",
   "metadata": {},
   "outputs": [
    {
     "name": "stdout",
     "output_type": "stream",
     "text": [
      "1 is not divisible by 3.\n",
      "2 is not divisible by 3.\n",
      "3 is divisible by 3.\n",
      "4 is not divisible by 3.\n",
      "5 is not divisible by 3.\n",
      "6 is divisible by 3.\n",
      "7 is not divisible by 3.\n",
      "8 is not divisible by 3.\n",
      "9 is divisible by 3.\n",
      "10 is not divisible by 3.\n",
      "11 is not divisible by 3.\n",
      "12 is divisible by 3.\n",
      "13 is not divisible by 3.\n",
      "14 is not divisible by 3.\n",
      "15 is divisible by 3.\n",
      "16 is not divisible by 3.\n",
      "17 is not divisible by 3.\n",
      "18 is divisible by 3.\n",
      "19 is not divisible by 3.\n",
      "20 is not divisible by 3.\n",
      "21 is divisible by 3.\n",
      "22 is not divisible by 3.\n",
      "23 is not divisible by 3.\n",
      "24 is divisible by 3.\n",
      "25 is not divisible by 3.\n"
     ]
    }
   ],
   "source": [
    "my_list = list(range(1, 26))\n",
    "\n",
    "for num in my_list:\n",
    "    if num % 3 == 0:\n",
    "        print(f\"{num} is divisible by 3.\")\n",
    "    else:\n",
    "        print(f\"{num} is not divisible by 3.\")\n"
   ]
  },
  {
   "cell_type": "markdown",
   "id": "38fc4977-f14a-497a-a2fc-9f5c85f965f5",
   "metadata": {},
   "source": [
    "Q7"
   ]
  },
  {
   "cell_type": "markdown",
   "id": "1ac7c10b-6c30-4d24-8d75-bbf25a82356d",
   "metadata": {},
   "source": [
    "Mutable Data Types: Objects of mutable data types can be modified after creation. Changes to these objects do not create new objects. Examples include lists and dictionaries.\n",
    "python\n",
    "Copy code\n",
    "my_list = [1, 2, 3]\n",
    "my_list.append(4)  # Modifying the list\n",
    "print(my_list)  # Output: [1, 2, 3, 4]\n",
    "Immutable Data Types: Objects of immutable data types cannot be modified after creation. Any operation that appears to modify an immutable object actually creates a new object. Examples include strings and tuples.\n",
    "python\n",
    "Copy code\n",
    "my_string = \"Hello\"\n",
    "my_string = my_string + \" World\"  # Creating a new string\n",
    "print(my_string)  # Output: \"Hello World\"\n",
    "In the mutable example, the list was modified in place, while in the immutable example, a new string was created when concatenating."
   ]
  },
  {
   "cell_type": "code",
   "execution_count": null,
   "id": "069e6f2c-4bbc-4ac3-97df-7d78aeb0dc72",
   "metadata": {},
   "outputs": [],
   "source": []
  }
 ],
 "metadata": {
  "kernelspec": {
   "display_name": "Python 3 (ipykernel)",
   "language": "python",
   "name": "python3"
  },
  "language_info": {
   "codemirror_mode": {
    "name": "ipython",
    "version": 3
   },
   "file_extension": ".py",
   "mimetype": "text/x-python",
   "name": "python",
   "nbconvert_exporter": "python",
   "pygments_lexer": "ipython3",
   "version": "3.10.8"
  }
 },
 "nbformat": 4,
 "nbformat_minor": 5
}
